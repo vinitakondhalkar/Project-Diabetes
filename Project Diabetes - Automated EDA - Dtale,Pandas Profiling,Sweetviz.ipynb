{
 "cells": [
  {
   "cell_type": "markdown",
   "id": "aed2f3a5",
   "metadata": {},
   "source": [
    "******************PANDAS PROFILING LIBRARY**********************"
   ]
  },
  {
   "cell_type": "code",
   "execution_count": null,
   "id": "f9435008",
   "metadata": {},
   "outputs": [],
   "source": [
    "#!pip install MarkupSafe \n",
    "#!pip install markupsafe==2.0.1 \n",
    "#!pip install --user --upgrade aws-sam-cli\n",
    "#!pip install --user --upgrade aws-sam-cli"
   ]
  },
  {
   "cell_type": "code",
   "execution_count": 1,
   "id": "f6eafbec",
   "metadata": {},
   "outputs": [],
   "source": [
    "import numpy as np\n",
    "import pandas as pd\n",
    "import seaborn as sns"
   ]
  },
  {
   "cell_type": "code",
   "execution_count": 8,
   "id": "5e36b5d6",
   "metadata": {},
   "outputs": [
    {
     "name": "stdout",
     "output_type": "stream",
     "text": [
      "Requirement already satisfied: pandas-profiling in c:\\users\\vinit\\anaconda3\\lib\\site-packages (3.2.0)\n",
      "Requirement already satisfied: scipy>=1.4.1 in c:\\users\\vinit\\anaconda3\\lib\\site-packages (from pandas-profiling) (1.7.1)\n",
      "Requirement already satisfied: tqdm>=4.48.2 in c:\\users\\vinit\\anaconda3\\lib\\site-packages (from pandas-profiling) (4.62.3)\n",
      "Requirement already satisfied: visions[type_image_path]==0.7.4 in c:\\users\\vinit\\anaconda3\\lib\\site-packages (from pandas-profiling) (0.7.4)\n",
      "Requirement already satisfied: seaborn>=0.10.1 in c:\\users\\vinit\\anaconda3\\lib\\site-packages (from pandas-profiling) (0.11.2)\n",
      "Requirement already satisfied: missingno>=0.4.2 in c:\\users\\vinit\\appdata\\roaming\\python\\python39\\site-packages (from pandas-profiling) (0.4.2)\n",
      "Requirement already satisfied: matplotlib>=3.2.0 in c:\\users\\vinit\\anaconda3\\lib\\site-packages (from pandas-profiling) (3.4.3)\n",
      "Requirement already satisfied: pandas!=1.0.0,!=1.0.1,!=1.0.2,!=1.1.0,>=0.25.3 in c:\\users\\vinit\\anaconda3\\lib\\site-packages (from pandas-profiling) (1.3.4)\n",
      "Requirement already satisfied: joblib~=1.1.0 in c:\\users\\vinit\\anaconda3\\lib\\site-packages (from pandas-profiling) (1.1.0)\n",
      "Requirement already satisfied: pydantic>=1.8.1 in c:\\users\\vinit\\anaconda3\\lib\\site-packages (from pandas-profiling) (1.9.1)\n",
      "Requirement already satisfied: markupsafe~=2.1.1 in c:\\users\\vinit\\anaconda3\\lib\\site-packages (from pandas-profiling) (2.1.1)\n",
      "Requirement already satisfied: tangled-up-in-unicode==0.2.0 in c:\\users\\vinit\\anaconda3\\lib\\site-packages (from pandas-profiling) (0.2.0)\n",
      "Requirement already satisfied: requests>=2.24.0 in c:\\users\\vinit\\appdata\\roaming\\python\\python39\\site-packages (from pandas-profiling) (2.25.1)\n",
      "Requirement already satisfied: multimethod>=1.4 in c:\\users\\vinit\\anaconda3\\lib\\site-packages (from pandas-profiling) (1.8)\n",
      "Requirement already satisfied: numpy>=1.16.0 in c:\\users\\vinit\\anaconda3\\lib\\site-packages (from pandas-profiling) (1.20.3)\n",
      "Requirement already satisfied: htmlmin>=0.1.12 in c:\\users\\vinit\\anaconda3\\lib\\site-packages (from pandas-profiling) (0.1.12)\n",
      "Requirement already satisfied: PyYAML>=5.0.0 in c:\\users\\vinit\\appdata\\roaming\\python\\python39\\site-packages (from pandas-profiling) (5.4.1)\n",
      "Requirement already satisfied: jinja2>=2.11.1 in c:\\users\\vinit\\anaconda3\\lib\\site-packages (from pandas-profiling) (2.11.3)\n",
      "Requirement already satisfied: phik>=0.11.1 in c:\\users\\vinit\\anaconda3\\lib\\site-packages (from pandas-profiling) (0.12.2)\n",
      "Requirement already satisfied: networkx>=2.4 in c:\\users\\vinit\\anaconda3\\lib\\site-packages (from visions[type_image_path]==0.7.4->pandas-profiling) (2.6.3)\n",
      "Requirement already satisfied: attrs>=19.3.0 in c:\\users\\vinit\\anaconda3\\lib\\site-packages (from visions[type_image_path]==0.7.4->pandas-profiling) (21.2.0)\n",
      "Requirement already satisfied: Pillow in c:\\users\\vinit\\anaconda3\\lib\\site-packages (from visions[type_image_path]==0.7.4->pandas-profiling) (8.4.0)\n",
      "Requirement already satisfied: imagehash in c:\\users\\vinit\\anaconda3\\lib\\site-packages (from visions[type_image_path]==0.7.4->pandas-profiling) (4.2.1)\n",
      "Requirement already satisfied: pyparsing>=2.2.1 in c:\\users\\vinit\\anaconda3\\lib\\site-packages (from matplotlib>=3.2.0->pandas-profiling) (3.0.4)\n",
      "Requirement already satisfied: kiwisolver>=1.0.1 in c:\\users\\vinit\\anaconda3\\lib\\site-packages (from matplotlib>=3.2.0->pandas-profiling) (1.3.1)\n",
      "Requirement already satisfied: cycler>=0.10 in c:\\users\\vinit\\anaconda3\\lib\\site-packages (from matplotlib>=3.2.0->pandas-profiling) (0.10.0)\n",
      "Requirement already satisfied: python-dateutil>=2.7 in c:\\users\\vinit\\anaconda3\\lib\\site-packages (from matplotlib>=3.2.0->pandas-profiling) (2.8.2)\n",
      "Requirement already satisfied: pytz>=2017.3 in c:\\users\\vinit\\anaconda3\\lib\\site-packages (from pandas!=1.0.0,!=1.0.1,!=1.0.2,!=1.1.0,>=0.25.3->pandas-profiling) (2021.3)\n",
      "Requirement already satisfied: typing-extensions>=3.7.4.3 in c:\\users\\vinit\\appdata\\roaming\\python\\python39\\site-packages (from pydantic>=1.8.1->pandas-profiling) (3.10.0.0)\n",
      "Requirement already satisfied: idna<3,>=2.5 in c:\\users\\vinit\\appdata\\roaming\\python\\python39\\site-packages (from requests>=2.24.0->pandas-profiling) (2.10)\n",
      "Requirement already satisfied: urllib3<1.27,>=1.21.1 in c:\\users\\vinit\\anaconda3\\lib\\site-packages (from requests>=2.24.0->pandas-profiling) (1.26.7)\n",
      "Requirement already satisfied: chardet<5,>=3.0.2 in c:\\users\\vinit\\anaconda3\\lib\\site-packages (from requests>=2.24.0->pandas-profiling) (4.0.0)\n",
      "Requirement already satisfied: certifi>=2017.4.17 in c:\\users\\vinit\\anaconda3\\lib\\site-packages (from requests>=2.24.0->pandas-profiling) (2021.10.8)\n",
      "Requirement already satisfied: colorama in c:\\users\\vinit\\anaconda3\\lib\\site-packages (from tqdm>=4.48.2->pandas-profiling) (0.4.4)\n",
      "Requirement already satisfied: six in c:\\users\\vinit\\anaconda3\\lib\\site-packages (from cycler>=0.10->matplotlib>=3.2.0->pandas-profiling) (1.16.0)\n",
      "Requirement already satisfied: PyWavelets in c:\\users\\vinit\\anaconda3\\lib\\site-packages (from imagehash->visions[type_image_path]==0.7.4->pandas-profiling) (1.1.1)\n"
     ]
    }
   ],
   "source": [
    "!pip install --user pandas-profiling\n",
    "from pandas_profiling import ProfileReport"
   ]
  },
  {
   "cell_type": "code",
   "execution_count": 4,
   "id": "d17aa423",
   "metadata": {},
   "outputs": [],
   "source": [
    "#df=pd.read_excel(\"Diabetes-Modified .xlsx\")\n",
    "dfDemographics=pd.read_excel(\"Diabetes-Modified .xlsx\",\"Demographics in V2 and V8\")\n",
    "#dfMedicationHistory=pd.read_excel(\"Diabetes-Modified .xlsx\",\"Medical and Medication History \")\n",
    "#dfLabTests=pd.read_excel(\"Diabetes-Modified .xlsx\",\"Lab Tests in V2 and V8\")\n",
    "#dfMRI=pd.read_excel(\"Diabetes-Modified .xlsx\",\"MRI Tests in V2 and V8\")\n",
    "#dfCognitive=pd.read_excel(\"Diabetes-Modified .xlsx\",\"Cognitive Tests\")"
   ]
  },
  {
   "cell_type": "code",
   "execution_count": 5,
   "id": "40096b02",
   "metadata": {},
   "outputs": [
    {
     "data": {
      "text/html": [
       "<div>\n",
       "<style scoped>\n",
       "    .dataframe tbody tr th:only-of-type {\n",
       "        vertical-align: middle;\n",
       "    }\n",
       "\n",
       "    .dataframe tbody tr th {\n",
       "        vertical-align: top;\n",
       "    }\n",
       "\n",
       "    .dataframe thead th {\n",
       "        text-align: right;\n",
       "    }\n",
       "</style>\n",
       "<table border=\"1\" class=\"dataframe\">\n",
       "  <thead>\n",
       "    <tr style=\"text-align: right;\">\n",
       "      <th></th>\n",
       "      <th>PatientID_x</th>\n",
       "      <th>Visit_x</th>\n",
       "      <th>Group</th>\n",
       "      <th>Diabetes Duration</th>\n",
       "      <th>HTN or not</th>\n",
       "      <th>Race</th>\n",
       "      <th>DM, Non-DM, STROKE</th>\n",
       "      <th>HEIGHT (M)</th>\n",
       "      <th>MASS (KG)</th>\n",
       "      <th>BMI</th>\n",
       "    </tr>\n",
       "  </thead>\n",
       "  <tbody>\n",
       "    <tr>\n",
       "      <th>0</th>\n",
       "      <td>S0030</td>\n",
       "      <td>2.0</td>\n",
       "      <td>CONTROL</td>\n",
       "      <td>NaN</td>\n",
       "      <td>ntn</td>\n",
       "      <td>White</td>\n",
       "      <td>Non-DM</td>\n",
       "      <td>1.62</td>\n",
       "      <td>69.4</td>\n",
       "      <td>26.444140</td>\n",
       "    </tr>\n",
       "    <tr>\n",
       "      <th>1</th>\n",
       "      <td>S0033</td>\n",
       "      <td>2.0</td>\n",
       "      <td>CONTROL</td>\n",
       "      <td>NaN</td>\n",
       "      <td>ntn</td>\n",
       "      <td>White</td>\n",
       "      <td>Non-DM</td>\n",
       "      <td>1.80</td>\n",
       "      <td>97.0</td>\n",
       "      <td>29.938272</td>\n",
       "    </tr>\n",
       "    <tr>\n",
       "      <th>2</th>\n",
       "      <td>S0064</td>\n",
       "      <td>2.0</td>\n",
       "      <td>CONTROL</td>\n",
       "      <td>NaN</td>\n",
       "      <td>ntn</td>\n",
       "      <td>White</td>\n",
       "      <td>Non-DM</td>\n",
       "      <td>1.70</td>\n",
       "      <td>70.9</td>\n",
       "      <td>24.532872</td>\n",
       "    </tr>\n",
       "    <tr>\n",
       "      <th>3</th>\n",
       "      <td>S0068</td>\n",
       "      <td>2.0</td>\n",
       "      <td>CONTROL</td>\n",
       "      <td>NaN</td>\n",
       "      <td>ntn</td>\n",
       "      <td>White</td>\n",
       "      <td>Non-DM</td>\n",
       "      <td>1.55</td>\n",
       "      <td>70.8</td>\n",
       "      <td>29.469303</td>\n",
       "    </tr>\n",
       "    <tr>\n",
       "      <th>4</th>\n",
       "      <td>S0078</td>\n",
       "      <td>2.0</td>\n",
       "      <td>CONTROL</td>\n",
       "      <td>NaN</td>\n",
       "      <td>ntn</td>\n",
       "      <td>White</td>\n",
       "      <td>Non-DM</td>\n",
       "      <td>1.54</td>\n",
       "      <td>44.0</td>\n",
       "      <td>18.552876</td>\n",
       "    </tr>\n",
       "    <tr>\n",
       "      <th>5</th>\n",
       "      <td>S0105</td>\n",
       "      <td>2.0</td>\n",
       "      <td>DM</td>\n",
       "      <td>14.0</td>\n",
       "      <td>HTN</td>\n",
       "      <td>White</td>\n",
       "      <td>DM</td>\n",
       "      <td>1.78</td>\n",
       "      <td>107.6</td>\n",
       "      <td>33.960358</td>\n",
       "    </tr>\n",
       "    <tr>\n",
       "      <th>6</th>\n",
       "      <td>S0153</td>\n",
       "      <td>2.0</td>\n",
       "      <td>CONTROL</td>\n",
       "      <td>NaN</td>\n",
       "      <td>ntn</td>\n",
       "      <td>White</td>\n",
       "      <td>Non-DM</td>\n",
       "      <td>1.68</td>\n",
       "      <td>65.3</td>\n",
       "      <td>23.136338</td>\n",
       "    </tr>\n",
       "    <tr>\n",
       "      <th>7</th>\n",
       "      <td>S0166</td>\n",
       "      <td>2.0</td>\n",
       "      <td>CONTROL</td>\n",
       "      <td>NaN</td>\n",
       "      <td>ntn</td>\n",
       "      <td>White</td>\n",
       "      <td>Non-DM</td>\n",
       "      <td>1.63</td>\n",
       "      <td>71.6</td>\n",
       "      <td>26.948700</td>\n",
       "    </tr>\n",
       "    <tr>\n",
       "      <th>8</th>\n",
       "      <td>S0174</td>\n",
       "      <td>2.0</td>\n",
       "      <td>CONTROL</td>\n",
       "      <td>NaN</td>\n",
       "      <td>HTN</td>\n",
       "      <td>White</td>\n",
       "      <td>Non-DM</td>\n",
       "      <td>1.65</td>\n",
       "      <td>72.3</td>\n",
       "      <td>26.556474</td>\n",
       "    </tr>\n",
       "    <tr>\n",
       "      <th>9</th>\n",
       "      <td>S0187</td>\n",
       "      <td>2.0</td>\n",
       "      <td>CONTROL</td>\n",
       "      <td>NaN</td>\n",
       "      <td>ntn</td>\n",
       "      <td>White</td>\n",
       "      <td>Non-DM</td>\n",
       "      <td>1.60</td>\n",
       "      <td>62.9</td>\n",
       "      <td>24.570312</td>\n",
       "    </tr>\n",
       "  </tbody>\n",
       "</table>\n",
       "</div>"
      ],
      "text/plain": [
       "  PatientID_x  Visit_x    Group  Diabetes Duration HTN or not   Race  \\\n",
       "0       S0030      2.0  CONTROL                NaN        ntn  White   \n",
       "1       S0033      2.0  CONTROL                NaN        ntn  White   \n",
       "2       S0064      2.0  CONTROL                NaN        ntn  White   \n",
       "3       S0068      2.0  CONTROL                NaN        ntn  White   \n",
       "4       S0078      2.0  CONTROL                NaN        ntn  White   \n",
       "5       S0105      2.0       DM               14.0        HTN  White   \n",
       "6       S0153      2.0  CONTROL                NaN        ntn  White   \n",
       "7       S0166      2.0  CONTROL                NaN        ntn  White   \n",
       "8       S0174      2.0  CONTROL                NaN        HTN  White   \n",
       "9       S0187      2.0  CONTROL                NaN        ntn  White   \n",
       "\n",
       "  DM, Non-DM, STROKE  HEIGHT (M)  MASS (KG)        BMI  \n",
       "0             Non-DM        1.62       69.4  26.444140  \n",
       "1             Non-DM        1.80       97.0  29.938272  \n",
       "2             Non-DM        1.70       70.9  24.532872  \n",
       "3             Non-DM        1.55       70.8  29.469303  \n",
       "4             Non-DM        1.54       44.0  18.552876  \n",
       "5                 DM        1.78      107.6  33.960358  \n",
       "6             Non-DM        1.68       65.3  23.136338  \n",
       "7             Non-DM        1.63       71.6  26.948700  \n",
       "8             Non-DM        1.65       72.3  26.556474  \n",
       "9             Non-DM        1.60       62.9  24.570312  "
      ]
     },
     "execution_count": 5,
     "metadata": {},
     "output_type": "execute_result"
    }
   ],
   "source": [
    "dfDemographics.head(10)"
   ]
  },
  {
   "cell_type": "code",
   "execution_count": 9,
   "id": "4fd90130",
   "metadata": {},
   "outputs": [
    {
     "data": {
      "application/vnd.jupyter.widget-view+json": {
       "model_id": "24548f4c89834cf38fb0ae6a88ca4143",
       "version_major": 2,
       "version_minor": 0
      },
      "text/plain": [
       "Summarize dataset:   0%|          | 0/5 [00:00<?, ?it/s]"
      ]
     },
     "metadata": {},
     "output_type": "display_data"
    },
    {
     "data": {
      "application/vnd.jupyter.widget-view+json": {
       "model_id": "8668ee5fd4cb4b588613300d037ad640",
       "version_major": 2,
       "version_minor": 0
      },
      "text/plain": [
       "Generate report structure:   0%|          | 0/1 [00:00<?, ?it/s]"
      ]
     },
     "metadata": {},
     "output_type": "display_data"
    },
    {
     "data": {
      "application/vnd.jupyter.widget-view+json": {
       "model_id": "f6367966fe804495a23505bf0ab1c49e",
       "version_major": 2,
       "version_minor": 0
      },
      "text/plain": [
       "Render HTML:   0%|          | 0/1 [00:00<?, ?it/s]"
      ]
     },
     "metadata": {},
     "output_type": "display_data"
    },
    {
     "data": {
      "application/vnd.jupyter.widget-view+json": {
       "model_id": "82c16f57813449feb8372f552105c8cb",
       "version_major": 2,
       "version_minor": 0
      },
      "text/plain": [
       "Export report to file:   0%|          | 0/1 [00:00<?, ?it/s]"
      ]
     },
     "metadata": {},
     "output_type": "display_data"
    },
    {
     "name": "stderr",
     "output_type": "stream",
     "text": [
      "2022-06-30 20:31:02,172 - WARNING  - findfont: Font family ['Heiti TC'] not found. Falling back to DejaVu Sans.\n",
      "2022-06-30 20:31:02,236 - WARNING  - findfont: Font family ['Heiti TC'] not found. Falling back to DejaVu Sans.\n",
      "2022-06-30 20:31:02,261 - WARNING  - findfont: Font family ['Heiti TC'] not found. Falling back to DejaVu Sans.\n",
      "2022-06-30 20:31:02,293 - WARNING  - findfont: Font family ['Heiti TC'] not found. Falling back to DejaVu Sans.\n"
     ]
    }
   ],
   "source": [
    "profile = ProfileReport(dfDemographics)\n",
    "#profile = ProfileReport(df.sample(n=100),title=\"Pandas Profiling Report\", minimal=True,explorative=True) #smaller chunk of larger dataset\n",
    "profile.to_file(output_file ='projectdiabetesoutput.html')"
   ]
  },
  {
   "cell_type": "code",
   "execution_count": null,
   "id": "a3851df4",
   "metadata": {},
   "outputs": [],
   "source": [
    "profile.to_widgets()\n",
    "profile.to_notebook_iframe()"
   ]
  },
  {
   "cell_type": "markdown",
   "id": "7f7b02bb",
   "metadata": {},
   "source": [
    "*****************************DTALE LIBRARY************************"
   ]
  },
  {
   "cell_type": "code",
   "execution_count": 2,
   "id": "031fcbde",
   "metadata": {},
   "outputs": [
    {
     "name": "stdout",
     "output_type": "stream",
     "text": [
      "Requirement already satisfied: dtale in c:\\users\\vinit\\appdata\\roaming\\python\\python39\\site-packages (2.6.0)\n",
      "Requirement already satisfied: future>=0.14.0 in c:\\users\\vinit\\anaconda3\\lib\\site-packages (from dtale) (0.18.2)\n",
      "Requirement already satisfied: Flask-Compress in c:\\users\\vinit\\appdata\\roaming\\python\\python39\\site-packages (from dtale) (1.12)\n",
      "Requirement already satisfied: pandas in c:\\users\\vinit\\anaconda3\\lib\\site-packages (from dtale) (1.3.4)\n",
      "Requirement already satisfied: requests in c:\\users\\vinit\\appdata\\roaming\\python\\python39\\site-packages (from dtale) (2.25.1)\n",
      "Requirement already satisfied: squarify in c:\\users\\vinit\\anaconda3\\lib\\site-packages (from dtale) (0.4.3)\n",
      "Requirement already satisfied: dash>=2.0.0 in c:\\users\\vinit\\appdata\\roaming\\python\\python39\\site-packages (from dtale) (2.5.1)\n",
      "Requirement already satisfied: seaborn in c:\\users\\vinit\\anaconda3\\lib\\site-packages (from dtale) (0.11.2)\n",
      "Requirement already satisfied: flask-ngrok in c:\\users\\vinit\\appdata\\roaming\\python\\python39\\site-packages (from dtale) (0.0.25)\n",
      "Requirement already satisfied: certifi in c:\\users\\vinit\\anaconda3\\lib\\site-packages (from dtale) (2021.10.8)\n",
      "Requirement already satisfied: dash-bootstrap-components in c:\\users\\vinit\\appdata\\roaming\\python\\python39\\site-packages (from dtale) (1.2.0)\n",
      "Requirement already satisfied: cycler in c:\\users\\vinit\\anaconda3\\lib\\site-packages (from dtale) (0.10.0)\n",
      "Requirement already satisfied: missingno<=0.4.2 in c:\\users\\vinit\\appdata\\roaming\\python\\python39\\site-packages (from dtale) (0.4.2)\n",
      "Requirement already satisfied: networkx in c:\\users\\vinit\\anaconda3\\lib\\site-packages (from dtale) (2.6.3)\n",
      "Requirement already satisfied: kaleido in c:\\users\\vinit\\anaconda3\\lib\\site-packages (from dtale) (0.2.1)\n",
      "Requirement already satisfied: scikit-learn in c:\\users\\vinit\\anaconda3\\lib\\site-packages (from dtale) (0.24.2)\n",
      "Requirement already satisfied: xlrd in c:\\users\\vinit\\anaconda3\\lib\\site-packages (from dtale) (2.0.1)\n",
      "Requirement already satisfied: matplotlib in c:\\users\\vinit\\anaconda3\\lib\\site-packages (from dtale) (3.4.3)\n",
      "Requirement already satisfied: dash-daq in c:\\users\\vinit\\appdata\\roaming\\python\\python39\\site-packages (from dtale) (0.5.0)\n",
      "Requirement already satisfied: xarray in c:\\users\\vinit\\appdata\\roaming\\python\\python39\\site-packages (from dtale) (2022.3.0)\n",
      "Requirement already satisfied: lz4 in c:\\users\\vinit\\anaconda3\\lib\\site-packages (from dtale) (4.0.1)\n",
      "Requirement already satisfied: openpyxl in c:\\users\\vinit\\anaconda3\\lib\\site-packages (from dtale) (3.0.9)\n",
      "Requirement already satisfied: itsdangerous in c:\\users\\vinit\\appdata\\roaming\\python\\python39\\site-packages (from dtale) (1.1.0)\n",
      "Requirement already satisfied: strsimpy in c:\\users\\vinit\\anaconda3\\lib\\site-packages (from dtale) (0.2.1)\n",
      "Requirement already satisfied: plotly>=5.0.0 in c:\\users\\vinit\\anaconda3\\lib\\site-packages (from dtale) (5.9.0)\n",
      "Requirement already satisfied: six in c:\\users\\vinit\\anaconda3\\lib\\site-packages (from dtale) (1.16.0)\n",
      "Requirement already satisfied: dash-colorscales in c:\\users\\vinit\\anaconda3\\lib\\site-packages (from dtale) (0.0.4)\n",
      "Requirement already satisfied: numpy in c:\\users\\vinit\\anaconda3\\lib\\site-packages (from dtale) (1.20.3)\n",
      "Requirement already satisfied: et-xmlfile in c:\\users\\vinit\\anaconda3\\lib\\site-packages (from dtale) (1.1.0)\n",
      "Requirement already satisfied: statsmodels in c:\\users\\vinit\\anaconda3\\lib\\site-packages (from dtale) (0.12.2)\n",
      "Requirement already satisfied: scipy in c:\\users\\vinit\\anaconda3\\lib\\site-packages (from dtale) (1.7.1)\n",
      "Requirement already satisfied: Flask in c:\\users\\vinit\\appdata\\roaming\\python\\python39\\site-packages (from dtale) (1.1.4)\n",
      "Requirement already satisfied: dash-table==5.0.0 in c:\\users\\vinit\\anaconda3\\lib\\site-packages (from dash>=2.0.0->dtale) (5.0.0)\n",
      "Requirement already satisfied: dash-core-components==2.0.0 in c:\\users\\vinit\\anaconda3\\lib\\site-packages (from dash>=2.0.0->dtale) (2.0.0)\n",
      "Requirement already satisfied: dash-html-components==2.0.0 in c:\\users\\vinit\\anaconda3\\lib\\site-packages (from dash>=2.0.0->dtale) (2.0.0)\n",
      "Requirement already satisfied: Werkzeug<2.0,>=0.15 in c:\\users\\vinit\\appdata\\roaming\\python\\python39\\site-packages (from Flask->dtale) (1.0.1)\n",
      "Requirement already satisfied: click<8.0,>=5.1 in c:\\users\\vinit\\appdata\\roaming\\python\\python39\\site-packages (from Flask->dtale) (7.1.2)\n",
      "Requirement already satisfied: Jinja2<3.0,>=2.10.1 in c:\\users\\vinit\\anaconda3\\lib\\site-packages (from Flask->dtale) (2.11.3)\n",
      "Requirement already satisfied: tenacity>=6.2.0 in c:\\users\\vinit\\anaconda3\\lib\\site-packages (from plotly>=5.0.0->dtale) (8.0.1)\n",
      "Requirement already satisfied: brotli in c:\\users\\vinit\\anaconda3\\lib\\site-packages (from Flask-Compress->dtale) (1.0.9)\n",
      "Requirement already satisfied: kiwisolver>=1.0.1 in c:\\users\\vinit\\anaconda3\\lib\\site-packages (from matplotlib->dtale) (1.3.1)\n",
      "Requirement already satisfied: pyparsing>=2.2.1 in c:\\users\\vinit\\anaconda3\\lib\\site-packages (from matplotlib->dtale) (3.0.4)\n",
      "Requirement already satisfied: python-dateutil>=2.7 in c:\\users\\vinit\\anaconda3\\lib\\site-packages (from matplotlib->dtale) (2.8.2)\n",
      "Requirement already satisfied: pillow>=6.2.0 in c:\\users\\vinit\\anaconda3\\lib\\site-packages (from matplotlib->dtale) (8.4.0)\n",
      "Requirement already satisfied: pytz>=2017.3 in c:\\users\\vinit\\anaconda3\\lib\\site-packages (from pandas->dtale) (2021.3)\n",
      "Requirement already satisfied: chardet<5,>=3.0.2 in c:\\users\\vinit\\anaconda3\\lib\\site-packages (from requests->dtale) (4.0.0)\n",
      "Requirement already satisfied: urllib3<1.27,>=1.21.1 in c:\\users\\vinit\\anaconda3\\lib\\site-packages (from requests->dtale) (1.26.7)\n",
      "Requirement already satisfied: idna<3,>=2.5 in c:\\users\\vinit\\appdata\\roaming\\python\\python39\\site-packages (from requests->dtale) (2.10)\n",
      "Requirement already satisfied: joblib>=0.11 in c:\\users\\vinit\\anaconda3\\lib\\site-packages (from scikit-learn->dtale) (1.1.0)\n",
      "Requirement already satisfied: threadpoolctl>=2.0.0 in c:\\users\\vinit\\anaconda3\\lib\\site-packages (from scikit-learn->dtale) (2.2.0)\n",
      "Requirement already satisfied: patsy>=0.5 in c:\\users\\vinit\\anaconda3\\lib\\site-packages (from statsmodels->dtale) (0.5.2)\n",
      "Requirement already satisfied: packaging>=20.0 in c:\\users\\vinit\\anaconda3\\lib\\site-packages (from xarray->dtale) (21.0)\n",
      "Requirement already satisfied: MarkupSafe>=0.23 in c:\\users\\vinit\\appdata\\roaming\\python\\python39\\site-packages (from Jinja2<3.0,>=2.10.1->Flask->dtale) (2.0.1)\n"
     ]
    }
   ],
   "source": [
    "!pip install dtale"
   ]
  },
  {
   "cell_type": "code",
   "execution_count": 6,
   "id": "3be96659",
   "metadata": {},
   "outputs": [
    {
     "data": {
      "text/html": [
       "\n",
       "        <iframe\n",
       "            width=\"100%\"\n",
       "            height=\"475\"\n",
       "            src=\"http://DESKTOP-F1DDBTE:40000/dtale/iframe/1\"\n",
       "            frameborder=\"0\"\n",
       "            allowfullscreen\n",
       "            \n",
       "        ></iframe>\n",
       "        "
      ],
      "text/plain": [
       "<IPython.lib.display.IFrame at 0x1a3c506ca90>"
      ]
     },
     "metadata": {},
     "output_type": "display_data"
    },
    {
     "data": {
      "text/plain": []
     },
     "execution_count": 6,
     "metadata": {},
     "output_type": "execute_result"
    }
   ],
   "source": [
    "import dtale\n",
    "dtale.show(dfDemographics)"
   ]
  },
  {
   "cell_type": "markdown",
   "id": "c6958120",
   "metadata": {},
   "source": [
    "******************************SWEETVIZ LIBRARY****************************"
   ]
  },
  {
   "cell_type": "code",
   "execution_count": 10,
   "id": "4c278500",
   "metadata": {},
   "outputs": [
    {
     "name": "stdout",
     "output_type": "stream",
     "text": [
      "Collecting sweetviz\n",
      "  Downloading sweetviz-2.1.4-py3-none-any.whl (15.1 MB)\n",
      "     ---------------------------------------- 15.1/15.1 MB 3.5 MB/s eta 0:00:00\n",
      "Requirement already satisfied: matplotlib>=3.1.3 in c:\\users\\vinit\\anaconda3\\lib\\site-packages (from sweetviz) (3.4.3)\n",
      "Requirement already satisfied: numpy>=1.16.0 in c:\\users\\vinit\\anaconda3\\lib\\site-packages (from sweetviz) (1.20.3)\n",
      "Requirement already satisfied: tqdm>=4.43.0 in c:\\users\\vinit\\anaconda3\\lib\\site-packages (from sweetviz) (4.62.3)\n",
      "Requirement already satisfied: jinja2>=2.11.1 in c:\\users\\vinit\\anaconda3\\lib\\site-packages (from sweetviz) (2.11.3)\n",
      "Requirement already satisfied: pandas!=1.0.0,!=1.0.1,!=1.0.2,>=0.25.3 in c:\\users\\vinit\\anaconda3\\lib\\site-packages (from sweetviz) (1.3.4)\n",
      "Requirement already satisfied: scipy>=1.3.2 in c:\\users\\vinit\\anaconda3\\lib\\site-packages (from sweetviz) (1.7.1)\n",
      "Collecting importlib-resources>=1.2.0\n",
      "  Downloading importlib_resources-5.8.0-py3-none-any.whl (28 kB)\n",
      "Requirement already satisfied: zipp>=3.1.0 in c:\\users\\vinit\\anaconda3\\lib\\site-packages (from importlib-resources>=1.2.0->sweetviz) (3.6.0)\n",
      "Requirement already satisfied: MarkupSafe>=0.23 in c:\\users\\vinit\\anaconda3\\lib\\site-packages (from jinja2>=2.11.1->sweetviz) (2.1.1)\n",
      "Requirement already satisfied: kiwisolver>=1.0.1 in c:\\users\\vinit\\anaconda3\\lib\\site-packages (from matplotlib>=3.1.3->sweetviz) (1.3.1)\n",
      "Requirement already satisfied: pyparsing>=2.2.1 in c:\\users\\vinit\\anaconda3\\lib\\site-packages (from matplotlib>=3.1.3->sweetviz) (3.0.4)\n",
      "Requirement already satisfied: cycler>=0.10 in c:\\users\\vinit\\anaconda3\\lib\\site-packages (from matplotlib>=3.1.3->sweetviz) (0.10.0)\n",
      "Requirement already satisfied: python-dateutil>=2.7 in c:\\users\\vinit\\anaconda3\\lib\\site-packages (from matplotlib>=3.1.3->sweetviz) (2.8.2)\n",
      "Requirement already satisfied: pillow>=6.2.0 in c:\\users\\vinit\\anaconda3\\lib\\site-packages (from matplotlib>=3.1.3->sweetviz) (8.4.0)\n",
      "Requirement already satisfied: pytz>=2017.3 in c:\\users\\vinit\\anaconda3\\lib\\site-packages (from pandas!=1.0.0,!=1.0.1,!=1.0.2,>=0.25.3->sweetviz) (2021.3)\n",
      "Requirement already satisfied: colorama in c:\\users\\vinit\\anaconda3\\lib\\site-packages (from tqdm>=4.43.0->sweetviz) (0.4.4)\n",
      "Requirement already satisfied: six in c:\\users\\vinit\\anaconda3\\lib\\site-packages (from cycler>=0.10->matplotlib>=3.1.3->sweetviz) (1.16.0)\n",
      "Installing collected packages: importlib-resources, sweetviz\n",
      "Successfully installed importlib-resources-5.8.0 sweetviz-2.1.4\n"
     ]
    }
   ],
   "source": [
    "!pip install sweetviz"
   ]
  },
  {
   "cell_type": "code",
   "execution_count": 13,
   "id": "4253f8a5",
   "metadata": {},
   "outputs": [
    {
     "data": {
      "application/vnd.jupyter.widget-view+json": {
       "model_id": "d7739a3443f54df184bf811d2163a2da",
       "version_major": 2,
       "version_minor": 0
      },
      "text/plain": [
       "                                             |                                             | [  0%]   00:00 ->…"
      ]
     },
     "metadata": {},
     "output_type": "display_data"
    },
    {
     "name": "stdout",
     "output_type": "stream",
     "text": [
      "Report dtaleoutputreport.html was generated! NOTEBOOK/COLAB USERS: the web browser MAY not pop up, regardless, the report IS saved in your notebook/colab files.\n"
     ]
    }
   ],
   "source": [
    "import sweetviz as sv\n",
    "report=sv.analyze(dfDemographics)\n",
    "report.show_html('dtaleoutputreport.html')"
   ]
  },
  {
   "cell_type": "code",
   "execution_count": null,
   "id": "3016f313",
   "metadata": {},
   "outputs": [],
   "source": [
    "import pandas as pd\n",
    "import numpy as np\n",
    "pip install pandas-profiling\n",
    "demo = pd.read_excel('Diabetes.xlsx', index_col=None, usecols=\"A,A:J\")\n",
    "#profiling for demo data\n",
    "prof_demo = ProfileReport(demo)\n",
    "#preprocessing of demographics data\n",
    "demo['Diabetes Duration'] = demo['Diabetes Duration'].replace(np.nan, 0)\n",
    "demo['HTN or not'] = demo['HTN or not'].replace('ntn', 0).replace('HTN', 1)\n",
    "demo['Group'] = demo['Group'].replace('CONTROL', 0).replace('DM', 1)\n",
    "demo['DM, Non-DM, STROKE'] = demo['DM, Non-DM, STROKE'].replace('Non-DM', 0).replace('DM', 1)\n",
    "\n",
    "from sklearn import preprocessing\n",
    "le = preprocessing.LabelEncoder()\n",
    "demo['Race'] = le.fit_transform(demo['Race'])\n",
    "demo['HTN or not'] = demo['HTN or not'].fillna(demo['HTN or not'].mode()[0])\n",
    "\n",
    "# cognitive data\n",
    "cog_test = pd.read_excel('Diabetes.xlsx', index_col=None, usecols=\"AVF,AVF:AXQ\")\n",
    "prof_cog_test = ProfileReport(cog_test)"
   ]
  }
 ],
 "metadata": {
  "kernelspec": {
   "display_name": "Python 3 (ipykernel)",
   "language": "python",
   "name": "python3"
  },
  "language_info": {
   "codemirror_mode": {
    "name": "ipython",
    "version": 3
   },
   "file_extension": ".py",
   "mimetype": "text/x-python",
   "name": "python",
   "nbconvert_exporter": "python",
   "pygments_lexer": "ipython3",
   "version": "3.9.7"
  }
 },
 "nbformat": 4,
 "nbformat_minor": 5
}
